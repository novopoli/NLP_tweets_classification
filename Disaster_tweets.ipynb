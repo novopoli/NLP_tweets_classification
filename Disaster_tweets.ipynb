{
 "cells": [
  {
   "cell_type": "code",
   "execution_count": 1,
   "id": "c54145d5-4c6e-4882-a24c-fa424ca5ec6f",
   "metadata": {},
   "outputs": [],
   "source": [
    "import pandas as pd\n",
    "import matplotlib.pyplot as plt\n",
    "import numpy as np\n",
    "import seaborn as sns\n",
    "import nltk\n",
    "import re\n",
    "\n",
    "RANDOM_STATE = 11"
   ]
  },
  {
   "cell_type": "code",
   "execution_count": 2,
   "id": "ced0f546-bb41-47dd-8107-ee8b19a8c840",
   "metadata": {},
   "outputs": [
    {
     "data": {
      "text/html": [
       "<div>\n",
       "<style scoped>\n",
       "    .dataframe tbody tr th:only-of-type {\n",
       "        vertical-align: middle;\n",
       "    }\n",
       "\n",
       "    .dataframe tbody tr th {\n",
       "        vertical-align: top;\n",
       "    }\n",
       "\n",
       "    .dataframe thead th {\n",
       "        text-align: right;\n",
       "    }\n",
       "</style>\n",
       "<table border=\"1\" class=\"dataframe\">\n",
       "  <thead>\n",
       "    <tr style=\"text-align: right;\">\n",
       "      <th></th>\n",
       "      <th>id</th>\n",
       "      <th>keyword</th>\n",
       "      <th>location</th>\n",
       "      <th>text</th>\n",
       "      <th>target</th>\n",
       "    </tr>\n",
       "  </thead>\n",
       "  <tbody>\n",
       "    <tr>\n",
       "      <th>0</th>\n",
       "      <td>1</td>\n",
       "      <td>NaN</td>\n",
       "      <td>NaN</td>\n",
       "      <td>Our Deeds are the Reason of this #earthquake M...</td>\n",
       "      <td>1</td>\n",
       "    </tr>\n",
       "    <tr>\n",
       "      <th>1</th>\n",
       "      <td>4</td>\n",
       "      <td>NaN</td>\n",
       "      <td>NaN</td>\n",
       "      <td>Forest fire near La Ronge Sask. Canada</td>\n",
       "      <td>1</td>\n",
       "    </tr>\n",
       "    <tr>\n",
       "      <th>2</th>\n",
       "      <td>5</td>\n",
       "      <td>NaN</td>\n",
       "      <td>NaN</td>\n",
       "      <td>All residents asked to 'shelter in place' are ...</td>\n",
       "      <td>1</td>\n",
       "    </tr>\n",
       "    <tr>\n",
       "      <th>3</th>\n",
       "      <td>6</td>\n",
       "      <td>NaN</td>\n",
       "      <td>NaN</td>\n",
       "      <td>13,000 people receive #wildfires evacuation or...</td>\n",
       "      <td>1</td>\n",
       "    </tr>\n",
       "    <tr>\n",
       "      <th>4</th>\n",
       "      <td>7</td>\n",
       "      <td>NaN</td>\n",
       "      <td>NaN</td>\n",
       "      <td>Just got sent this photo from Ruby #Alaska as ...</td>\n",
       "      <td>1</td>\n",
       "    </tr>\n",
       "  </tbody>\n",
       "</table>\n",
       "</div>"
      ],
      "text/plain": [
       "   id keyword location                                               text  \\\n",
       "0   1     NaN      NaN  Our Deeds are the Reason of this #earthquake M...   \n",
       "1   4     NaN      NaN             Forest fire near La Ronge Sask. Canada   \n",
       "2   5     NaN      NaN  All residents asked to 'shelter in place' are ...   \n",
       "3   6     NaN      NaN  13,000 people receive #wildfires evacuation or...   \n",
       "4   7     NaN      NaN  Just got sent this photo from Ruby #Alaska as ...   \n",
       "\n",
       "   target  \n",
       "0       1  \n",
       "1       1  \n",
       "2       1  \n",
       "3       1  \n",
       "4       1  "
      ]
     },
     "execution_count": 2,
     "metadata": {},
     "output_type": "execute_result"
    }
   ],
   "source": [
    "train = pd.read_csv('train.csv')\n",
    "test = pd.read_csv('test.csv')\n",
    "sub = pd.read_csv('sample_submission.csv')\n",
    "\n",
    "train.head()"
   ]
  },
  {
   "cell_type": "code",
   "execution_count": 3,
   "id": "345e9c92-182c-486e-b67b-7a045990e0ef",
   "metadata": {
    "scrolled": true
   },
   "outputs": [
    {
     "data": {
      "text/html": [
       "<div>\n",
       "<style scoped>\n",
       "    .dataframe tbody tr th:only-of-type {\n",
       "        vertical-align: middle;\n",
       "    }\n",
       "\n",
       "    .dataframe tbody tr th {\n",
       "        vertical-align: top;\n",
       "    }\n",
       "\n",
       "    .dataframe thead th {\n",
       "        text-align: right;\n",
       "    }\n",
       "</style>\n",
       "<table border=\"1\" class=\"dataframe\">\n",
       "  <thead>\n",
       "    <tr style=\"text-align: right;\">\n",
       "      <th></th>\n",
       "      <th>id</th>\n",
       "      <th>keyword</th>\n",
       "      <th>location</th>\n",
       "      <th>text</th>\n",
       "    </tr>\n",
       "  </thead>\n",
       "  <tbody>\n",
       "    <tr>\n",
       "      <th>0</th>\n",
       "      <td>0</td>\n",
       "      <td>NaN</td>\n",
       "      <td>NaN</td>\n",
       "      <td>Just happened a terrible car crash</td>\n",
       "    </tr>\n",
       "    <tr>\n",
       "      <th>1</th>\n",
       "      <td>2</td>\n",
       "      <td>NaN</td>\n",
       "      <td>NaN</td>\n",
       "      <td>Heard about #earthquake is different cities, s...</td>\n",
       "    </tr>\n",
       "    <tr>\n",
       "      <th>2</th>\n",
       "      <td>3</td>\n",
       "      <td>NaN</td>\n",
       "      <td>NaN</td>\n",
       "      <td>there is a forest fire at spot pond, geese are...</td>\n",
       "    </tr>\n",
       "    <tr>\n",
       "      <th>3</th>\n",
       "      <td>9</td>\n",
       "      <td>NaN</td>\n",
       "      <td>NaN</td>\n",
       "      <td>Apocalypse lighting. #Spokane #wildfires</td>\n",
       "    </tr>\n",
       "    <tr>\n",
       "      <th>4</th>\n",
       "      <td>11</td>\n",
       "      <td>NaN</td>\n",
       "      <td>NaN</td>\n",
       "      <td>Typhoon Soudelor kills 28 in China and Taiwan</td>\n",
       "    </tr>\n",
       "  </tbody>\n",
       "</table>\n",
       "</div>"
      ],
      "text/plain": [
       "   id keyword location                                               text\n",
       "0   0     NaN      NaN                 Just happened a terrible car crash\n",
       "1   2     NaN      NaN  Heard about #earthquake is different cities, s...\n",
       "2   3     NaN      NaN  there is a forest fire at spot pond, geese are...\n",
       "3   9     NaN      NaN           Apocalypse lighting. #Spokane #wildfires\n",
       "4  11     NaN      NaN      Typhoon Soudelor kills 28 in China and Taiwan"
      ]
     },
     "execution_count": 3,
     "metadata": {},
     "output_type": "execute_result"
    }
   ],
   "source": [
    "test.head()"
   ]
  },
  {
   "cell_type": "code",
   "execution_count": 4,
   "id": "d48e8fc0-5ca4-4b23-ac4b-a233f165b192",
   "metadata": {},
   "outputs": [
    {
     "data": {
      "text/html": [
       "<div>\n",
       "<style scoped>\n",
       "    .dataframe tbody tr th:only-of-type {\n",
       "        vertical-align: middle;\n",
       "    }\n",
       "\n",
       "    .dataframe tbody tr th {\n",
       "        vertical-align: top;\n",
       "    }\n",
       "\n",
       "    .dataframe thead th {\n",
       "        text-align: right;\n",
       "    }\n",
       "</style>\n",
       "<table border=\"1\" class=\"dataframe\">\n",
       "  <thead>\n",
       "    <tr style=\"text-align: right;\">\n",
       "      <th></th>\n",
       "      <th>id</th>\n",
       "      <th>target</th>\n",
       "    </tr>\n",
       "  </thead>\n",
       "  <tbody>\n",
       "    <tr>\n",
       "      <th>0</th>\n",
       "      <td>0</td>\n",
       "      <td>0</td>\n",
       "    </tr>\n",
       "    <tr>\n",
       "      <th>1</th>\n",
       "      <td>2</td>\n",
       "      <td>0</td>\n",
       "    </tr>\n",
       "    <tr>\n",
       "      <th>2</th>\n",
       "      <td>3</td>\n",
       "      <td>0</td>\n",
       "    </tr>\n",
       "    <tr>\n",
       "      <th>3</th>\n",
       "      <td>9</td>\n",
       "      <td>0</td>\n",
       "    </tr>\n",
       "    <tr>\n",
       "      <th>4</th>\n",
       "      <td>11</td>\n",
       "      <td>0</td>\n",
       "    </tr>\n",
       "  </tbody>\n",
       "</table>\n",
       "</div>"
      ],
      "text/plain": [
       "   id  target\n",
       "0   0       0\n",
       "1   2       0\n",
       "2   3       0\n",
       "3   9       0\n",
       "4  11       0"
      ]
     },
     "execution_count": 4,
     "metadata": {},
     "output_type": "execute_result"
    }
   ],
   "source": [
    "sub.head()"
   ]
  },
  {
   "cell_type": "markdown",
   "id": "81004470-90d3-4a8f-a153-60c094487dea",
   "metadata": {},
   "source": [
    "## 1. Data Exploration"
   ]
  },
  {
   "cell_type": "code",
   "execution_count": 6,
   "id": "344d0a58-68e4-434b-a9b9-654fc9def780",
   "metadata": {},
   "outputs": [
    {
     "name": "stdout",
     "output_type": "stream",
     "text": [
      "<class 'pandas.core.frame.DataFrame'>\n",
      "RangeIndex: 7613 entries, 0 to 7612\n",
      "Data columns (total 5 columns):\n",
      " #   Column    Non-Null Count  Dtype \n",
      "---  ------    --------------  ----- \n",
      " 0   id        7613 non-null   int64 \n",
      " 1   keyword   7552 non-null   object\n",
      " 2   location  5080 non-null   object\n",
      " 3   text      7613 non-null   object\n",
      " 4   target    7613 non-null   int64 \n",
      "dtypes: int64(2), object(3)\n",
      "memory usage: 297.5+ KB\n"
     ]
    }
   ],
   "source": [
    "train.info()"
   ]
  },
  {
   "cell_type": "code",
   "execution_count": 7,
   "id": "e0bf8b10-69b2-4fec-bde1-0adf613d2652",
   "metadata": {},
   "outputs": [
    {
     "data": {
      "text/plain": [
       "id             0\n",
       "keyword       61\n",
       "location    2533\n",
       "text           0\n",
       "target         0\n",
       "dtype: int64"
      ]
     },
     "execution_count": 7,
     "metadata": {},
     "output_type": "execute_result"
    }
   ],
   "source": [
    "train.isnull().sum()"
   ]
  },
  {
   "cell_type": "code",
   "execution_count": 8,
   "id": "fdcc7624-1038-46d0-90e5-58cc92f14db7",
   "metadata": {},
   "outputs": [
    {
     "data": {
      "text/plain": [
       "id          7613\n",
       "keyword      221\n",
       "location    3341\n",
       "text        7503\n",
       "target         2\n",
       "dtype: int64"
      ]
     },
     "execution_count": 8,
     "metadata": {},
     "output_type": "execute_result"
    }
   ],
   "source": [
    "train.nunique()"
   ]
  },
  {
   "cell_type": "markdown",
   "id": "eeef3b26-c789-42df-b309-76b533a001ae",
   "metadata": {},
   "source": [
    "## 2. EDA"
   ]
  },
  {
   "cell_type": "markdown",
   "id": "9e086f00-7def-422f-a99f-0ab12e12a637",
   "metadata": {},
   "source": [
    "### Target"
   ]
  },
  {
   "cell_type": "code",
   "execution_count": 11,
   "id": "564ebf98-4d1c-4fcb-9ef0-bf06ff7e7e13",
   "metadata": {},
   "outputs": [
    {
     "data": {
      "text/plain": [
       "target\n",
       "0    4342\n",
       "1    3271\n",
       "Name: count, dtype: int64"
      ]
     },
     "execution_count": 11,
     "metadata": {},
     "output_type": "execute_result"
    }
   ],
   "source": [
    "train['target'].value_counts()"
   ]
  },
  {
   "cell_type": "markdown",
   "id": "c0c933d4-b866-43c9-b253-a7bf2f7a87b6",
   "metadata": {},
   "source": [
    "#### The target is a little imbalanced"
   ]
  },
  {
   "cell_type": "markdown",
   "id": "9b07ce13-83dd-428a-adf2-cd108e8556af",
   "metadata": {},
   "source": [
    "### Keywords"
   ]
  },
  {
   "cell_type": "code",
   "execution_count": 14,
   "id": "9ac837e6-46fb-4c74-8036-e9959fb7b4dd",
   "metadata": {
    "scrolled": true
   },
   "outputs": [
    {
     "data": {
      "text/plain": [
       "array([nan, 'ablaze', 'accident', 'aftershock', 'airplane%20accident',\n",
       "       'ambulance', 'annihilated', 'annihilation', 'apocalypse',\n",
       "       'armageddon', 'army', 'arson', 'arsonist', 'attack', 'attacked',\n",
       "       'avalanche', 'battle', 'bioterror', 'bioterrorism', 'blaze',\n",
       "       'blazing', 'bleeding', 'blew%20up', 'blight', 'blizzard', 'blood',\n",
       "       'bloody', 'blown%20up', 'body%20bag', 'body%20bagging',\n",
       "       'body%20bags', 'bomb', 'bombed', 'bombing', 'bridge%20collapse',\n",
       "       'buildings%20burning', 'buildings%20on%20fire', 'burned',\n",
       "       'burning', 'burning%20buildings', 'bush%20fires', 'casualties',\n",
       "       'casualty', 'catastrophe', 'catastrophic', 'chemical%20emergency',\n",
       "       'cliff%20fall', 'collapse', 'collapsed', 'collide', 'collided',\n",
       "       'collision', 'crash', 'crashed', 'crush', 'crushed', 'curfew',\n",
       "       'cyclone', 'damage', 'danger', 'dead', 'death', 'deaths', 'debris',\n",
       "       'deluge', 'deluged', 'demolish', 'demolished', 'demolition',\n",
       "       'derail', 'derailed', 'derailment', 'desolate', 'desolation',\n",
       "       'destroy', 'destroyed', 'destruction', 'detonate', 'detonation',\n",
       "       'devastated', 'devastation', 'disaster', 'displaced', 'drought',\n",
       "       'drown', 'drowned', 'drowning', 'dust%20storm', 'earthquake',\n",
       "       'electrocute', 'electrocuted', 'emergency', 'emergency%20plan',\n",
       "       'emergency%20services', 'engulfed', 'epicentre', 'evacuate',\n",
       "       'evacuated', 'evacuation', 'explode', 'exploded', 'explosion',\n",
       "       'eyewitness', 'famine', 'fatal', 'fatalities', 'fatality', 'fear',\n",
       "       'fire', 'fire%20truck', 'first%20responders', 'flames',\n",
       "       'flattened', 'flood', 'flooding', 'floods', 'forest%20fire',\n",
       "       'forest%20fires', 'hail', 'hailstorm', 'harm', 'hazard',\n",
       "       'hazardous', 'heat%20wave', 'hellfire', 'hijack', 'hijacker',\n",
       "       'hijacking', 'hostage', 'hostages', 'hurricane', 'injured',\n",
       "       'injuries', 'injury', 'inundated', 'inundation', 'landslide',\n",
       "       'lava', 'lightning', 'loud%20bang', 'mass%20murder',\n",
       "       'mass%20murderer', 'massacre', 'mayhem', 'meltdown', 'military',\n",
       "       'mudslide', 'natural%20disaster', 'nuclear%20disaster',\n",
       "       'nuclear%20reactor', 'obliterate', 'obliterated', 'obliteration',\n",
       "       'oil%20spill', 'outbreak', 'pandemonium', 'panic', 'panicking',\n",
       "       'police', 'quarantine', 'quarantined', 'radiation%20emergency',\n",
       "       'rainstorm', 'razed', 'refugees', 'rescue', 'rescued', 'rescuers',\n",
       "       'riot', 'rioting', 'rubble', 'ruin', 'sandstorm', 'screamed',\n",
       "       'screaming', 'screams', 'seismic', 'sinkhole', 'sinking', 'siren',\n",
       "       'sirens', 'smoke', 'snowstorm', 'storm', 'stretcher',\n",
       "       'structural%20failure', 'suicide%20bomb', 'suicide%20bomber',\n",
       "       'suicide%20bombing', 'sunk', 'survive', 'survived', 'survivors',\n",
       "       'terrorism', 'terrorist', 'threat', 'thunder', 'thunderstorm',\n",
       "       'tornado', 'tragedy', 'trapped', 'trauma', 'traumatised',\n",
       "       'trouble', 'tsunami', 'twister', 'typhoon', 'upheaval',\n",
       "       'violent%20storm', 'volcano', 'war%20zone', 'weapon', 'weapons',\n",
       "       'whirlwind', 'wild%20fires', 'wildfire', 'windstorm', 'wounded',\n",
       "       'wounds', 'wreck', 'wreckage', 'wrecked'], dtype=object)"
      ]
     },
     "execution_count": 14,
     "metadata": {},
     "output_type": "execute_result"
    }
   ],
   "source": [
    "train['keyword'].unique()"
   ]
  },
  {
   "cell_type": "markdown",
   "id": "cc8ea550-ed8b-4d9a-bdf3-463b5685601e",
   "metadata": {},
   "source": [
    "#### Keyword looks like a useful feature bc includes a lot of words about disaster. Let's look closer"
   ]
  },
  {
   "cell_type": "code",
   "execution_count": 16,
   "id": "c40b58d7-8093-4ed9-a886-300fda61ee9f",
   "metadata": {},
   "outputs": [
    {
     "data": {
      "text/plain": [
       "Index(['Unknown', 'fatalities', 'deluge', 'armageddon', 'sinking', 'damage',\n",
       "       'harm', 'body%20bags', 'evacuate', 'fear'],\n",
       "      dtype='object', name='keyword')"
      ]
     },
     "execution_count": 16,
     "metadata": {},
     "output_type": "execute_result"
    }
   ],
   "source": [
    "train['keyword'] = train['keyword'].fillna('Unknown')\n",
    "test['keyword'] = test['keyword'].fillna('Unknown')\n",
    "\n",
    "top_keywords = train['keyword'].value_counts().index[:10]\n",
    "top_keywords"
   ]
  },
  {
   "cell_type": "code",
   "execution_count": 17,
   "id": "3d059b86-037c-4d75-afc0-909cde91fccf",
   "metadata": {},
   "outputs": [
    {
     "data": {
      "image/png": "[encoded data removed]",
      "text/plain": [
       "<Figure size 600x400 with 1 Axes>"
      ]
     },
     "metadata": {},
     "output_type": "display_data"
    }
   ],
   "source": [
    "train_top_keywords = train[train['keyword'].isin(top_keywords)]\n",
    "\n",
    "palette = {0: 'green', 1: 'red'}\n",
    "\n",
    "plt.figure(figsize=(6, 4))\n",
    "sns.countplot(data=train_top_keywords, x='keyword', hue='target', palette = palette)\n",
    "plt.xticks(rotation=90)\n",
    "plt.title('Top-10 of keywords and target distribution')\n",
    "plt.show()"
   ]
  },
  {
   "cell_type": "markdown",
   "id": "76bc440c-b74c-447a-8434-0ac5bbfa72a2",
   "metadata": {},
   "source": [
    "#### As we can see words that looks like a disaster are often used for non-disaster tweets. So it's not as easy as looks.\n",
    "#### Let's look top-10 disaster and non-disaster keywords."
   ]
  },
  {
   "cell_type": "code",
   "execution_count": 19,
   "id": "461402fe-e5ab-4b96-982b-70bae617db46",
   "metadata": {},
   "outputs": [
    {
     "data": {
      "image/png": "[encoded data removed]",
      "text/plain": [
       "<Figure size 1000x400 with 2 Axes>"
      ]
     },
     "metadata": {},
     "output_type": "display_data"
    }
   ],
   "source": [
    "top_disaster_keywords = train[train['target'] == 1]['keyword'].value_counts().head(10)\n",
    "top_nondisaster_keywords = train[train['target'] == 0]['keyword'].value_counts().head(10)\n",
    "\n",
    "fig, axes = plt.subplots(1, 2, figsize=(10, 4))\n",
    "sns.barplot(y=top_disaster_keywords.index, x=top_disaster_keywords.values, ax=axes[0], color = 'red')\n",
    "axes[0].set_title('Top 10 Keywords in Disaster Tweets')\n",
    "sns.barplot(y=top_nondisaster_keywords.index, x=top_nondisaster_keywords.values, ax=axes[1], color = 'green')\n",
    "axes[1].set_title('Top 10 Keywords in Non-Disaster Tweets')\n",
    "plt.tight_layout()\n",
    "plt.show()"
   ]
  },
  {
   "cell_type": "markdown",
   "id": "f7dbc483-be19-4b62-84d3-4b5f471f88ac",
   "metadata": {},
   "source": [
    "#### We have different words in each of top-10 that's mean keywords are useful in some way"
   ]
  },
  {
   "cell_type": "markdown",
   "id": "2fb7cd99-15bd-454f-9dd3-1fa66b46d729",
   "metadata": {},
   "source": [
    "### Location"
   ]
  },
  {
   "cell_type": "code",
   "execution_count": 22,
   "id": "8f3a14fa-51a7-4e5d-82b8-59eeb58c9b12",
   "metadata": {
    "scrolled": true
   },
   "outputs": [
    {
     "data": {
      "text/plain": [
       "array([nan, 'Birmingham', 'Est. September 2012 - Bristol', ...,\n",
       "       'Vancouver, Canada', 'London ', 'Lincoln'], dtype=object)"
      ]
     },
     "execution_count": 22,
     "metadata": {},
     "output_type": "execute_result"
    }
   ],
   "source": [
    "train['location'].unique()"
   ]
  },
  {
   "cell_type": "code",
   "execution_count": 23,
   "id": "bd09ac04-d4eb-4bd9-b519-1834ac379a81",
   "metadata": {},
   "outputs": [
    {
     "data": {
      "image/png": "[encoded data removed]",
      "text/plain": [
       "<Figure size 1000x400 with 2 Axes>"
      ]
     },
     "metadata": {},
     "output_type": "display_data"
    }
   ],
   "source": [
    "train['location'] = train['location'].fillna('Unknown')\n",
    "\n",
    "top_disaster_locations = train[train['target'] == 1]['location'].value_counts().iloc[1:11]\n",
    "top_nondisaster_locations = train[train['target'] == 0]['location'].value_counts().iloc[1:11]\n",
    "\n",
    "# Plotting the top locations\n",
    "fig, axes = plt.subplots(1, 2, figsize=(10, 4))\n",
    "sns.barplot(y=top_disaster_locations.index, x=top_disaster_locations.values, ax=axes[0], color='red')\n",
    "axes[0].set_title('Top 10 Locations in Disaster Tweets')\n",
    "sns.barplot(y=top_nondisaster_locations.index, x=top_nondisaster_locations.values, ax=axes[1], color='green')\n",
    "axes[1].set_title('Top 10 Locations in Non-Disaster Tweets')\n",
    "plt.tight_layout()\n",
    "plt.show()"
   ]
  },
  {
   "cell_type": "markdown",
   "id": "00b63b59-e0ca-4642-aa71-53c73c64da2f",
   "metadata": {},
   "source": [
    "#### Locations are not as useful as keywords. I guess we can drop it."
   ]
  },
  {
   "cell_type": "code",
   "execution_count": 25,
   "id": "9f943dd2-053c-4ca9-98b5-99b382f1c633",
   "metadata": {},
   "outputs": [
    {
     "data": {
      "text/html": [
       "<div>\n",
       "<style scoped>\n",
       "    .dataframe tbody tr th:only-of-type {\n",
       "        vertical-align: middle;\n",
       "    }\n",
       "\n",
       "    .dataframe tbody tr th {\n",
       "        vertical-align: top;\n",
       "    }\n",
       "\n",
       "    .dataframe thead th {\n",
       "        text-align: right;\n",
       "    }\n",
       "</style>\n",
       "<table border=\"1\" class=\"dataframe\">\n",
       "  <thead>\n",
       "    <tr style=\"text-align: right;\">\n",
       "      <th></th>\n",
       "      <th>keyword</th>\n",
       "      <th>text</th>\n",
       "      <th>target</th>\n",
       "    </tr>\n",
       "  </thead>\n",
       "  <tbody>\n",
       "    <tr>\n",
       "      <th>0</th>\n",
       "      <td>Unknown</td>\n",
       "      <td>Our Deeds are the Reason of this #earthquake M...</td>\n",
       "      <td>1</td>\n",
       "    </tr>\n",
       "    <tr>\n",
       "      <th>1</th>\n",
       "      <td>Unknown</td>\n",
       "      <td>Forest fire near La Ronge Sask. Canada</td>\n",
       "      <td>1</td>\n",
       "    </tr>\n",
       "  </tbody>\n",
       "</table>\n",
       "</div>"
      ],
      "text/plain": [
       "   keyword                                               text  target\n",
       "0  Unknown  Our Deeds are the Reason of this #earthquake M...       1\n",
       "1  Unknown             Forest fire near La Ronge Sask. Canada       1"
      ]
     },
     "execution_count": 25,
     "metadata": {},
     "output_type": "execute_result"
    }
   ],
   "source": [
    "train.drop(columns=['id', 'location'], inplace=True, axis=1)\n",
    "test.drop(columns=['location'], inplace=True)\n",
    "\n",
    "train.head(2)"
   ]
  },
  {
   "cell_type": "code",
   "execution_count": 26,
   "id": "d0b66348-a374-4cb6-98c0-0f0467758345",
   "metadata": {},
   "outputs": [
    {
     "data": {
      "text/plain": [
       "keyword    0\n",
       "text       0\n",
       "target     0\n",
       "dtype: int64"
      ]
     },
     "execution_count": 26,
     "metadata": {},
     "output_type": "execute_result"
    }
   ],
   "source": [
    "train.isna().sum()"
   ]
  },
  {
   "cell_type": "code",
   "execution_count": 27,
   "id": "1765563c-dc53-45d4-817b-1ef70d23354f",
   "metadata": {},
   "outputs": [
    {
     "data": {
      "text/plain": [
       "id         0\n",
       "keyword    0\n",
       "text       0\n",
       "dtype: int64"
      ]
     },
     "execution_count": 27,
     "metadata": {},
     "output_type": "execute_result"
    }
   ],
   "source": [
    "test.isna().sum()"
   ]
  },
  {
   "cell_type": "markdown",
   "id": "ef7036d2-841c-4266-bd56-9042fb6eec64",
   "metadata": {},
   "source": [
    "## 3. Feature Engeneering"
   ]
  },
  {
   "cell_type": "markdown",
   "id": "437deba5-74c5-4bf6-9a75-a8fb3734a8c6",
   "metadata": {},
   "source": [
    "### Hashtags and mentions"
   ]
  },
  {
   "cell_type": "code",
   "execution_count": 30,
   "id": "dff34a13-d890-4a46-935a-926ad5e784a7",
   "metadata": {},
   "outputs": [
    {
     "data": {
      "text/plain": [
       "keyword                                              Unknown\n",
       "text       Our Deeds are the Reason of this #earthquake M...\n",
       "target                                                     1\n",
       "Name: 0, dtype: object"
      ]
     },
     "execution_count": 30,
     "metadata": {},
     "output_type": "execute_result"
    }
   ],
   "source": [
    "train.iloc[0]"
   ]
  },
  {
   "cell_type": "markdown",
   "id": "2813d73a-90e8-4fe9-afde-9a747ad77d3d",
   "metadata": {},
   "source": [
    "#### Let's extract hashtags and mentions from text and then look how they impact on target distribution"
   ]
  },
  {
   "cell_type": "code",
   "execution_count": 32,
   "id": "dfc785ab-4c6c-4297-a016-db682367aded",
   "metadata": {},
   "outputs": [
    {
     "data": {
      "text/plain": [
       "keyword                                               Unknown\n",
       "text        Our Deeds are the Reason of this #earthquake M...\n",
       "target                                                      1\n",
       "hashtags                                      ['#earthquake']\n",
       "mentions                                                   []\n",
       "Name: 0, dtype: object"
      ]
     },
     "execution_count": 32,
     "metadata": {},
     "output_type": "execute_result"
    }
   ],
   "source": [
    "train['hashtags'] = train['text'].apply(lambda x: re.findall(r'#\\w+', x)).astype(str)\n",
    "train['mentions'] = train['text'].apply(lambda x: re.findall(r'@\\w+', x)).astype(str)\n",
    "\n",
    "train.iloc[0]"
   ]
  },
  {
   "cell_type": "code",
   "execution_count": 33,
   "id": "46103258-7b8e-41e6-b0c1-51cc89109aca",
   "metadata": {},
   "outputs": [
    {
     "data": {
      "image/png": "[encoded data removed]",
      "text/plain": [
       "<Figure size 1000x400 with 2 Axes>"
      ]
     },
     "metadata": {},
     "output_type": "display_data"
    }
   ],
   "source": [
    "top_disaster_hashtags = train[train['target'] == 1]['hashtags'].value_counts().iloc[1:11]\n",
    "top_nondisaster_hashtags = train[train['target'] == 0]['hashtags'].value_counts().iloc[1:11]\n",
    "\n",
    "# Plotting the top locations\n",
    "fig, axes = plt.subplots(1, 2, figsize=(10, 4))\n",
    "sns.barplot(y=top_disaster_hashtags.index, x=top_disaster_hashtags.values, ax=axes[0], color='red')\n",
    "axes[0].set_title('Top 10 Hashtags in Disaster Tweets')\n",
    "sns.barplot(y=top_nondisaster_hashtags.index, x=top_nondisaster_hashtags.values, ax=axes[1], color='green')\n",
    "axes[1].set_title('Top 10 Hashtags in Non-Disaster Tweets')\n",
    "plt.tight_layout()\n",
    "plt.show()"
   ]
  },
  {
   "cell_type": "markdown",
   "id": "3dcfe6f1-f848-49b9-bf8d-5d561ff548e8",
   "metadata": {},
   "source": [
    "#### OK, maybe we can try use it for our purpose"
   ]
  },
  {
   "cell_type": "code",
   "execution_count": 35,
   "id": "89f11549-043e-45fa-9753-6b5b77e41244",
   "metadata": {},
   "outputs": [
    {
     "data": {
      "image/png": "[encoded data removed]",
      "text/plain": [
       "<Figure size 1000x400 with 2 Axes>"
      ]
     },
     "metadata": {},
     "output_type": "display_data"
    }
   ],
   "source": [
    "top_disaster_mentions = train[train['target'] == 1]['mentions'].value_counts().iloc[1:11]\n",
    "top_nondisaster_mentions = train[train['target'] == 0]['mentions'].value_counts().iloc[1:11]\n",
    "\n",
    "# Plotting the top locations\n",
    "fig, axes = plt.subplots(1, 2, figsize=(10, 4))\n",
    "sns.barplot(y=top_disaster_mentions.index, x=top_disaster_mentions.values, ax=axes[0], color='red')\n",
    "axes[0].set_title('Top 10 Mentions in Disaster Tweets')\n",
    "sns.barplot(y=top_nondisaster_mentions.index, x=top_nondisaster_mentions.values, ax=axes[1], color='green')\n",
    "axes[1].set_title('Top 10 Mentions in Non-Disaster Tweets')\n",
    "plt.tight_layout()\n",
    "plt.show()"
   ]
  },
  {
   "cell_type": "markdown",
   "id": "d8f91e98-f459-43ba-a2ba-0b75dc2c987e",
   "metadata": {},
   "source": [
    "#### Top-3 has the same words in disaster and non-disaster tweets. It doesn't look like useful feature for us."
   ]
  },
  {
   "cell_type": "code",
   "execution_count": 37,
   "id": "75e69457-b1a1-458f-97a6-0caa94c2bc75",
   "metadata": {},
   "outputs": [],
   "source": [
    "train.drop(columns=['mentions'], inplace=True, axis=1)"
   ]
  },
  {
   "cell_type": "code",
   "execution_count": 38,
   "id": "b5e674b3-7740-4080-b3bb-66fd3fd9b562",
   "metadata": {},
   "outputs": [],
   "source": [
    "test['hashtags'] = test['text'].apply(lambda x: re.findall(r'#\\w+', x)).astype(str)"
   ]
  },
  {
   "cell_type": "markdown",
   "id": "08d4f1ff-9e80-483a-a9f0-9741b314f952",
   "metadata": {},
   "source": [
    "### Bigrams"
   ]
  },
  {
   "cell_type": "code",
   "execution_count": 40,
   "id": "42b441ba-0cfe-4071-a3fa-20bfe0732c99",
   "metadata": {},
   "outputs": [
    {
     "name": "stdout",
     "output_type": "stream",
     "text": [
      "Top Bigrams in Disaster Tweets: [('û_ http', 109), ('suicide bomber', 59), ('northern california', 41), ('oil spill', 38), ('burning buildings', 37), ('suicide bombing', 35), ('california wildfire', 34), ('70 years', 30), ('bomber detonated', 30), ('confirmed mh370', 29)] \n",
      "\n",
      "Top Bigrams in Non-Disaster Tweets: [('û_ http', 108), ('cross body', 39), ('youtube video', 36), ('liked youtube', 35), ('video http', 27), ('body bag', 27), ('gt gt', 26), ('û_ https', 24), ('body bagging', 24), ('burning buildings', 23)]\n"
     ]
    }
   ],
   "source": [
    "from sklearn.feature_extraction.text import CountVectorizer\n",
    "\n",
    "def get_top_ngrams(corpus, ngram_range=(2, 2), n=None):\n",
    "    vec = CountVectorizer(ngram_range=ngram_range, stop_words='english').fit(corpus)\n",
    "    bag_of_words = vec.transform(corpus)\n",
    "    sum_words = bag_of_words.sum(axis=0)\n",
    "    words_freq = [(word, sum_words[0, idx]) for word, idx in vec.vocabulary_.items()]\n",
    "    words_freq = sorted(words_freq, key=lambda x: x[1], reverse=True)\n",
    "    return words_freq[:n]\n",
    "\n",
    "# Get top bigrams\n",
    "disaster_bigrams = get_top_ngrams(train[train['target'] == 1]['text'], ngram_range=(2, 2), n=10)\n",
    "nondisaster_bigrams = get_top_ngrams(train[train['target'] == 0]['text'], ngram_range=(2, 2), n=10)\n",
    "\n",
    "print(\"Top Bigrams in Disaster Tweets:\", disaster_bigrams, '\\n')\n",
    "print(\"Top Bigrams in Non-Disaster Tweets:\", nondisaster_bigrams)"
   ]
  },
  {
   "cell_type": "markdown",
   "id": "25696399-6bcf-4464-84a7-c6f606dc144a",
   "metadata": {},
   "source": [
    "### Length of tweets "
   ]
  },
  {
   "cell_type": "code",
   "execution_count": 42,
   "id": "0b0eaba4-401b-4382-9bca-56670900b84f",
   "metadata": {},
   "outputs": [
    {
     "data": {
      "image/png": "[encoded data removed]",
      "text/plain": [
       "<Figure size 600x400 with 1 Axes>"
      ]
     },
     "metadata": {},
     "output_type": "display_data"
    }
   ],
   "source": [
    "train[\"length\"] = train[\"text\"].apply(lambda x : len(x))\n",
    "test[\"length\"] = test[\"text\"].apply(lambda x : len(x))\n",
    "\n",
    "plt.figure(figsize=(6, 4))\n",
    "sns.histplot(train[train['target'] == 1]['length'], color='red', label='Disaster', kde=True)\n",
    "sns.histplot(train[train['target'] == 0]['length'], color='green', label='Non-Disaster', kde=True)\n",
    "plt.title('Length of tweets distribution')\n",
    "plt.legend()\n",
    "plt.show()"
   ]
  },
  {
   "cell_type": "markdown",
   "id": "e484a794-af34-44ff-b367-fb22804fdea9",
   "metadata": {},
   "source": [
    "#### We can see that fewer words indicate non-disaster tweets"
   ]
  },
  {
   "cell_type": "code",
   "execution_count": 44,
   "id": "5e6f8eb5-6fe1-40d2-bd6a-c0a36ce4c88a",
   "metadata": {},
   "outputs": [
    {
     "data": {
      "text/html": [
       "<div>\n",
       "<style scoped>\n",
       "    .dataframe tbody tr th:only-of-type {\n",
       "        vertical-align: middle;\n",
       "    }\n",
       "\n",
       "    .dataframe tbody tr th {\n",
       "        vertical-align: top;\n",
       "    }\n",
       "\n",
       "    .dataframe thead th {\n",
       "        text-align: right;\n",
       "    }\n",
       "</style>\n",
       "<table border=\"1\" class=\"dataframe\">\n",
       "  <thead>\n",
       "    <tr style=\"text-align: right;\">\n",
       "      <th></th>\n",
       "      <th>keyword</th>\n",
       "      <th>text</th>\n",
       "      <th>target</th>\n",
       "      <th>hashtags</th>\n",
       "      <th>length</th>\n",
       "    </tr>\n",
       "  </thead>\n",
       "  <tbody>\n",
       "    <tr>\n",
       "      <th>0</th>\n",
       "      <td>Unknown</td>\n",
       "      <td>Our Deeds are the Reason of this #earthquake M...</td>\n",
       "      <td>1</td>\n",
       "      <td>['#earthquake']</td>\n",
       "      <td>69</td>\n",
       "    </tr>\n",
       "    <tr>\n",
       "      <th>1</th>\n",
       "      <td>Unknown</td>\n",
       "      <td>Forest fire near La Ronge Sask. Canada</td>\n",
       "      <td>1</td>\n",
       "      <td>[]</td>\n",
       "      <td>38</td>\n",
       "    </tr>\n",
       "    <tr>\n",
       "      <th>2</th>\n",
       "      <td>Unknown</td>\n",
       "      <td>All residents asked to 'shelter in place' are ...</td>\n",
       "      <td>1</td>\n",
       "      <td>[]</td>\n",
       "      <td>133</td>\n",
       "    </tr>\n",
       "    <tr>\n",
       "      <th>3</th>\n",
       "      <td>Unknown</td>\n",
       "      <td>13,000 people receive #wildfires evacuation or...</td>\n",
       "      <td>1</td>\n",
       "      <td>['#wildfires']</td>\n",
       "      <td>65</td>\n",
       "    </tr>\n",
       "    <tr>\n",
       "      <th>4</th>\n",
       "      <td>Unknown</td>\n",
       "      <td>Just got sent this photo from Ruby #Alaska as ...</td>\n",
       "      <td>1</td>\n",
       "      <td>['#Alaska', '#wildfires']</td>\n",
       "      <td>88</td>\n",
       "    </tr>\n",
       "  </tbody>\n",
       "</table>\n",
       "</div>"
      ],
      "text/plain": [
       "   keyword                                               text  target  \\\n",
       "0  Unknown  Our Deeds are the Reason of this #earthquake M...       1   \n",
       "1  Unknown             Forest fire near La Ronge Sask. Canada       1   \n",
       "2  Unknown  All residents asked to 'shelter in place' are ...       1   \n",
       "3  Unknown  13,000 people receive #wildfires evacuation or...       1   \n",
       "4  Unknown  Just got sent this photo from Ruby #Alaska as ...       1   \n",
       "\n",
       "                    hashtags  length  \n",
       "0            ['#earthquake']      69  \n",
       "1                         []      38  \n",
       "2                         []     133  \n",
       "3             ['#wildfires']      65  \n",
       "4  ['#Alaska', '#wildfires']      88  "
      ]
     },
     "execution_count": 44,
     "metadata": {},
     "output_type": "execute_result"
    }
   ],
   "source": [
    "train.head()"
   ]
  },
  {
   "cell_type": "markdown",
   "id": "34715d1f-a256-469f-b7f8-2ef9085cf9f9",
   "metadata": {},
   "source": [
    "## 4. Text Preprocessing "
   ]
  },
  {
   "cell_type": "markdown",
   "id": "61982e72-d190-4aa6-a67c-cdc8e911939e",
   "metadata": {},
   "source": [
    "#### Before modeling we should do the following preprocessing steps: Lowercase Conversion, URL Removal, Punctuation and Special Character Removal, Number Removal, Stopword Removal, Tokenization, and Lemmatization."
   ]
  },
  {
   "cell_type": "code",
   "execution_count": 47,
   "id": "5e1689f1-af98-4e41-952a-7ddc033dcefc",
   "metadata": {},
   "outputs": [
    {
     "name": "stderr",
     "output_type": "stream",
     "text": [
      "[nltk_data] Downloading package stopwords to\n",
      "[nltk_data]     C:\\Users\\novoselya.pa\\AppData\\Roaming\\nltk_data...\n",
      "[nltk_data]   Package stopwords is already up-to-date!\n",
      "[nltk_data] Downloading package wordnet to\n",
      "[nltk_data]     C:\\Users\\novoselya.pa\\AppData\\Roaming\\nltk_data...\n",
      "[nltk_data]   Package wordnet is already up-to-date!\n"
     ]
    },
    {
     "data": {
      "text/plain": [
       "True"
      ]
     },
     "execution_count": 47,
     "metadata": {},
     "output_type": "execute_result"
    }
   ],
   "source": [
    "import re\n",
    "import nltk\n",
    "from nltk.corpus import stopwords\n",
    "from nltk.stem import WordNetLemmatizer\n",
    "\n",
    "# Download NLTK resources\n",
    "nltk.download('stopwords')\n",
    "nltk.download('wordnet')"
   ]
  },
  {
   "cell_type": "code",
   "execution_count": 48,
   "id": "7f9d7017-80c5-4e11-b497-ca9e7060a155",
   "metadata": {},
   "outputs": [
    {
     "name": "stdout",
     "output_type": "stream",
     "text": [
      "Sample Preprocessed Text:\n",
      "                                                text  \\\n",
      "0  Our Deeds are the Reason of this #earthquake M...   \n",
      "1             Forest fire near La Ronge Sask. Canada   \n",
      "\n",
      "                                   clean_text  \n",
      "0  deed reason earthquake may allah forgive u  \n",
      "1       forest fire near la ronge sask canada  \n"
     ]
    }
   ],
   "source": [
    "lemmatizer = WordNetLemmatizer()\n",
    "stop_words = set(stopwords.words('english'))\n",
    "\n",
    "def preprocess_text(text):\n",
    "    # Lowercase text\n",
    "    text = text.lower()\n",
    "    # Remove URLs\n",
    "    text = re.sub(r'http\\S+|www\\S+|https\\S+', '', text)\n",
    "    # Remove punctuations and special characters\n",
    "    text = re.sub(r'[^a-zA-Z\\s]', '', text)\n",
    "    # Remove numbers\n",
    "    text = re.sub(r'\\d+', '', text)\n",
    "    # Tokenization and remove stopwords\n",
    "    words = text.split()\n",
    "    words = [word for word in words if word not in stop_words]\n",
    "    # Lemmatization\n",
    "    words = [lemmatizer.lemmatize(word) for word in words]\n",
    "    return ' '.join(words)\n",
    "\n",
    "train['clean_text'] = train['text'].apply(preprocess_text)\n",
    "test['clean_text'] = test['text'].apply(preprocess_text)\n",
    "\n",
    "# Display a few examples to verify\n",
    "print(\"Sample Preprocessed Text:\")\n",
    "print(train[['text', 'clean_text']].head(2))"
   ]
  },
  {
   "cell_type": "markdown",
   "id": "98867c5b-b00e-431a-8219-d53a3bc42578",
   "metadata": {},
   "source": [
    "### TF-IDF"
   ]
  },
  {
   "cell_type": "code",
   "execution_count": 50,
   "id": "77cbe3ef-e8d0-4373-86d7-db6870735e04",
   "metadata": {},
   "outputs": [
    {
     "name": "stdout",
     "output_type": "stream",
     "text": [
      "Text train shape: (7613, 5000)\n",
      "Keyword train shape: (7613, 240)\n",
      "Hashtags train shape: (7613, 1917)\n",
      "Length train shape: (7613, 1)\n"
     ]
    }
   ],
   "source": [
    "from sklearn.feature_extraction.text import TfidfVectorizer\n",
    "from scipy.sparse import hstack\n",
    "from sklearn.model_selection import train_test_split\n",
    "\n",
    "tfidf = TfidfVectorizer(max_features=5000, ngram_range=(1, 2))  # Unigrams and bigrams\n",
    "vectorizer = TfidfVectorizer()\n",
    "\n",
    "target_train = train['target']\n",
    "\n",
    "text_train = tfidf.fit_transform(train['clean_text'])\n",
    "text_test = tfidf.transform(test['clean_text'])\n",
    "print('Text train shape:', text_train.shape)\n",
    "\n",
    "keyword_train = vectorizer.fit_transform(train['keyword'])\n",
    "keyword_test = vectorizer.transform(test['keyword'])\n",
    "print('Keyword train shape:', keyword_train.shape)\n",
    "\n",
    "hashtags_train = vectorizer.fit_transform(train['hashtags'])\n",
    "hashtags_test = vectorizer.transform(test['hashtags'])\n",
    "print('Hashtags train shape:', hashtags_train.shape)\n",
    "\n",
    "length_train = train['length'].values.reshape(-1, 1)\n",
    "length_test = test['length'].values.reshape(-1, 1)\n",
    "print('Length train shape:', length_train.shape)"
   ]
  },
  {
   "cell_type": "code",
   "execution_count": 51,
   "id": "504f9e6b-5453-4517-a312-1bb01a33810a",
   "metadata": {},
   "outputs": [
    {
     "name": "stdout",
     "output_type": "stream",
     "text": [
      "Feature train shape: (7613, 7158)\n"
     ]
    }
   ],
   "source": [
    "feature_train = hstack((text_train, keyword_train, hashtags_train, length_train))\n",
    "feature_test = hstack((text_test, keyword_test, hashtags_test, length_test))\n",
    "print('Feature train shape:', feature_train.shape)\n",
    "\n",
    "X_train, X_val, y_train, y_val = train_test_split(feature_train, target_train, test_size=0.25, random_state=RANDOM_STATE)"
   ]
  },
  {
   "cell_type": "markdown",
   "id": "9d985131-c597-48f9-ac83-f7c2099518aa",
   "metadata": {},
   "source": [
    "## Model 1. LogisticRegression"
   ]
  },
  {
   "cell_type": "code",
   "execution_count": 57,
   "id": "fa2374ce-261b-4b49-8e1b-982a7962a781",
   "metadata": {},
   "outputs": [
    {
     "name": "stdout",
     "output_type": "stream",
     "text": [
      "Validation Accuracy: 0.81\n",
      "\n",
      "Classification Report:\n",
      "              precision    recall  f1-score   support\n",
      "\n",
      "           0       0.80      0.91      0.85      1106\n",
      "           1       0.84      0.68      0.75       798\n",
      "\n",
      "    accuracy                           0.81      1904\n",
      "   macro avg       0.82      0.79      0.80      1904\n",
      "weighted avg       0.82      0.81      0.81      1904\n",
      "\n",
      "\n",
      "Confusion Matrix:\n",
      "[[1004  102]\n",
      " [ 256  542]]\n"
     ]
    }
   ],
   "source": [
    "from sklearn.linear_model import LogisticRegression\n",
    "from sklearn.metrics import accuracy_score, classification_report, confusion_matrix, f1_score\n",
    "\n",
    "model = LogisticRegression(max_iter=500, random_state=RANDOM_STATE)\n",
    "model.fit(X_train, y_train)\n",
    "\n",
    "y_pred = model.predict(X_val)\n",
    "\n",
    "accuracy = accuracy_score(y_val, y_pred)\n",
    "print(f\"Validation Accuracy: {accuracy:.2f}\")\n",
    "\n",
    "print(\"\\nClassification Report:\")\n",
    "print(classification_report(y_val, y_pred))\n",
    "\n",
    "print(\"\\nConfusion Matrix:\")\n",
    "print(confusion_matrix(y_val, y_pred))"
   ]
  },
  {
   "cell_type": "markdown",
   "id": "e53a1eed-8489-4b14-ac1a-094bab015fe4",
   "metadata": {},
   "source": [
    "#### Let's check the score if we delete some of features"
   ]
  },
  {
   "cell_type": "code",
   "execution_count": 55,
   "id": "9a78da33-16fd-42b9-a9e5-af3747ac1a06",
   "metadata": {},
   "outputs": [
    {
     "name": "stdout",
     "output_type": "stream",
     "text": [
      "Validation Accuracy: 0.81\n",
      "\n",
      "Classification Report:\n",
      "              precision    recall  f1-score   support\n",
      "\n",
      "           0       0.80      0.90      0.85      1106\n",
      "           1       0.83      0.69      0.75       798\n",
      "\n",
      "    accuracy                           0.81      1904\n",
      "   macro avg       0.81      0.79      0.80      1904\n",
      "weighted avg       0.81      0.81      0.81      1904\n",
      "\n",
      "\n",
      "Confusion Matrix:\n",
      "[[992 114]\n",
      " [249 549]]\n"
     ]
    }
   ],
   "source": [
    "feature_train = hstack((text_train, length_train))\n",
    "\n",
    "X_train, X_val, y_train, y_val = train_test_split(feature_train, target_train, test_size=0.25, random_state=RANDOM_STATE)\n",
    "\n",
    "model.fit(X_train, y_train)\n",
    "\n",
    "y_pred = model.predict(X_val)\n",
    "\n",
    "accuracy = accuracy_score(y_val, y_pred)\n",
    "print(f\"Validation Accuracy: {accuracy:.2f}\")\n",
    "\n",
    "print(\"\\nClassification Report:\")\n",
    "print(classification_report(y_val, y_pred))\n",
    "\n",
    "print(\"\\nConfusion Matrix:\")\n",
    "print(confusion_matrix(y_val, y_pred))"
   ]
  },
  {
   "cell_type": "code",
   "execution_count": 59,
   "id": "de01c14d-c82b-4060-a948-b14248946f63",
   "metadata": {},
   "outputs": [
    {
     "name": "stdout",
     "output_type": "stream",
     "text": [
      "Validation Accuracy: 0.81\n",
      "\n",
      "Classification Report:\n",
      "              precision    recall  f1-score   support\n",
      "\n",
      "           0       0.80      0.91      0.85      1106\n",
      "           1       0.84      0.68      0.75       798\n",
      "\n",
      "    accuracy                           0.81      1904\n",
      "   macro avg       0.82      0.79      0.80      1904\n",
      "weighted avg       0.82      0.81      0.81      1904\n",
      "\n",
      "\n",
      "Confusion Matrix:\n",
      "[[1004  102]\n",
      " [ 256  542]]\n"
     ]
    }
   ],
   "source": [
    "X_train, X_val, y_train, y_val = train_test_split(text_train, target_train, test_size=0.25, random_state=RANDOM_STATE)\n",
    "\n",
    "model.fit(X_train, y_train)\n",
    "\n",
    "y_pred_lr = model.predict(X_val)\n",
    "\n",
    "accuracy_lr = accuracy_score(y_val, y_pred)\n",
    "f1_lr = f1_score(y_val, y_pred_lr)\n",
    "print(f\"Validation Accuracy: {accuracy_lr:.2f}\")\n",
    "\n",
    "print(\"\\nClassification Report:\")\n",
    "print(classification_report(y_val, y_pred))\n",
    "\n",
    "print(\"\\nConfusion Matrix:\")\n",
    "print(confusion_matrix(y_val, y_pred))\n",
    "\n",
    "# test_predictions = svm_model.predict(text_test)\n",
    "# test['target'] = test_predictions\n",
    "\n",
    "# submission = test[['id', 'target']]\n",
    "# submission.to_csv('submission_lr.csv', index=False)"
   ]
  },
  {
   "cell_type": "markdown",
   "id": "7dfac17b-b6de-4061-8309-144934fcafcb",
   "metadata": {},
   "source": [
    "#### After several iteration the better score was only using text."
   ]
  },
  {
   "cell_type": "markdown",
   "id": "c601e0f9-e177-4ec0-a2bf-f419277e3edb",
   "metadata": {},
   "source": [
    "## Model 2. Random Forest"
   ]
  },
  {
   "cell_type": "code",
   "execution_count": 63,
   "id": "0c6afd01-abd7-48cd-9964-865b050d73f2",
   "metadata": {},
   "outputs": [
    {
     "name": "stdout",
     "output_type": "stream",
     "text": [
      "Validation Accuracy (Random Forest): 0.80\n",
      "\n",
      "Classification Report (Random Forest):\n",
      "              precision    recall  f1-score   support\n",
      "\n",
      "           0       0.80      0.87      0.83      1106\n",
      "           1       0.80      0.69      0.74       798\n",
      "\n",
      "    accuracy                           0.80      1904\n",
      "   macro avg       0.80      0.78      0.79      1904\n",
      "weighted avg       0.80      0.80      0.80      1904\n",
      "\n",
      "\n",
      "Confusion Matrix (Random Forest):\n",
      "[[967 139]\n",
      " [246 552]]\n"
     ]
    }
   ],
   "source": [
    "from sklearn.ensemble import RandomForestClassifier\n",
    "from sklearn.metrics import accuracy_score, classification_report, confusion_matrix, f1_score\n",
    "\n",
    "rf_model = RandomForestClassifier(random_state=RANDOM_STATE)\n",
    "rf_model.fit(X_train, y_train)\n",
    "\n",
    "y_pred_rf = rf_model.predict(X_val)\n",
    "\n",
    "accuracy_rf = accuracy_score(y_val, y_pred_rf)\n",
    "f1_rf = f1_score(y_val, y_pred_rf)\n",
    "print(f\"Validation Accuracy (Random Forest): {accuracy_rf:.2f}\")\n",
    "\n",
    "print(\"\\nClassification Report (Random Forest):\")\n",
    "print(classification_report(y_val, y_pred_rf))\n",
    "\n",
    "print(\"\\nConfusion Matrix (Random Forest):\")\n",
    "print(confusion_matrix(y_val, y_pred_rf))"
   ]
  },
  {
   "cell_type": "markdown",
   "id": "473ee64b-4dce-428d-a814-422ffa19c6d2",
   "metadata": {},
   "source": [
    "## Model 3. XGBoost"
   ]
  },
  {
   "cell_type": "code",
   "execution_count": 65,
   "id": "97d7c090-0476-451a-b65e-36ba026db887",
   "metadata": {},
   "outputs": [
    {
     "name": "stdout",
     "output_type": "stream",
     "text": [
      "Validation Accuracy (XGBoost): 0.78\n",
      "\n",
      "Classification Report (XGBoost):\n",
      "              precision    recall  f1-score   support\n",
      "\n",
      "           0       0.77      0.89      0.82      1106\n",
      "           1       0.81      0.62      0.70       798\n",
      "\n",
      "    accuracy                           0.78      1904\n",
      "   macro avg       0.79      0.76      0.76      1904\n",
      "weighted avg       0.78      0.78      0.77      1904\n",
      "\n",
      "\n",
      "Confusion Matrix (XGBoost):\n",
      "[[987 119]\n",
      " [301 497]]\n"
     ]
    }
   ],
   "source": [
    "from xgboost import XGBClassifier\n",
    "from sklearn.metrics import accuracy_score, classification_report, confusion_matrix\n",
    "\n",
    "xgb_model = XGBClassifier(random_state=RANDOM_STATE)\n",
    "xgb_model.fit(X_train, y_train)\n",
    "\n",
    "y_pred_xgb = xgb_model.predict(X_val)\n",
    "\n",
    "accuracy_xgb = accuracy_score(y_val, y_pred_xgb)\n",
    "f1_xgb = f1_score(y_val, y_pred_xgb)\n",
    "print(f\"Validation Accuracy (XGBoost): {accuracy_xgb:.2f}\")\n",
    "\n",
    "print(\"\\nClassification Report (XGBoost):\")\n",
    "print(classification_report(y_val, y_pred_xgb))\n",
    "\n",
    "print(\"\\nConfusion Matrix (XGBoost):\")\n",
    "print(confusion_matrix(y_val, y_pred_xgb))"
   ]
  },
  {
   "cell_type": "markdown",
   "id": "12ae030f-2c4c-441c-aa28-fbb69e59c22e",
   "metadata": {},
   "source": [
    "## Model 4. SVM"
   ]
  },
  {
   "cell_type": "code",
   "execution_count": 67,
   "id": "f2f1c7a5-3d01-4acf-941a-b2d0a293404b",
   "metadata": {},
   "outputs": [
    {
     "name": "stdout",
     "output_type": "stream",
     "text": [
      "Validation Accuracy (SVM): 0.81\n",
      "\n",
      "Classification Report (SVM):\n",
      "              precision    recall  f1-score   support\n",
      "\n",
      "           0       0.79      0.92      0.85      1106\n",
      "           1       0.85      0.67      0.75       798\n",
      "\n",
      "    accuracy                           0.81      1904\n",
      "   macro avg       0.82      0.79      0.80      1904\n",
      "weighted avg       0.82      0.81      0.81      1904\n",
      "\n",
      "\n",
      "Confusion Matrix (SVM):\n",
      "[[1014   92]\n",
      " [ 263  535]]\n"
     ]
    }
   ],
   "source": [
    "from sklearn.svm import SVC\n",
    "from sklearn.metrics import accuracy_score, classification_report, confusion_matrix\n",
    "\n",
    "# Initialize and train the model\n",
    "svm_model = SVC(random_state=RANDOM_STATE)\n",
    "svm_model.fit(X_train, y_train)\n",
    "\n",
    "y_pred_svm = svm_model.predict(X_val)\n",
    "\n",
    "# Evaluation\n",
    "accuracy_svm = accuracy_score(y_val, y_pred_svm)\n",
    "f1_svm = f1_score(y_val, y_pred_svm)\n",
    "print(f\"Validation Accuracy (SVM): {accuracy_svm:.2f}\")\n",
    "\n",
    "print(\"\\nClassification Report (SVM):\")\n",
    "print(classification_report(y_val, y_pred_svm))\n",
    "\n",
    "print(\"\\nConfusion Matrix (SVM):\")\n",
    "print(confusion_matrix(y_val, y_pred_svm))\n",
    "\n",
    "# test_predictions = svm_model.predict(text_test)\n",
    "# test['target'] = test_predictions\n",
    "\n",
    "# submission = test[['id', 'target']]\n",
    "# submission.to_csv('submission_svm.csv', index=False)"
   ]
  },
  {
   "cell_type": "code",
   "execution_count": 68,
   "id": "63616b97-dfa4-49ec-82fe-95a921ee0e62",
   "metadata": {},
   "outputs": [
    {
     "name": "stdout",
     "output_type": "stream",
     "text": [
      "Validation Accuracy (LR): 0.81\n",
      "Validation Accuracy (RF): 0.80\n",
      "Validation Accuracy (XGB): 0.78\n",
      "Validation Accuracy (SVM): 0.81\n"
     ]
    }
   ],
   "source": [
    "print(f\"Validation Accuracy (LR): {accuracy_lr:.2f}\")\n",
    "print(f\"Validation Accuracy (RF): {accuracy_rf:.2f}\")\n",
    "print(f\"Validation Accuracy (XGB): {accuracy_xgb:.2f}\")\n",
    "print(f\"Validation Accuracy (SVM): {accuracy_svm:.2f}\")"
   ]
  },
  {
   "cell_type": "code",
   "execution_count": 69,
   "id": "152380d4-4f39-4b38-bdf5-a8faeed5c82e",
   "metadata": {},
   "outputs": [
    {
     "name": "stdout",
     "output_type": "stream",
     "text": [
      "F1-score (LR): 0.75\n",
      "F1-scorey (RF): 0.74\n",
      "F1-score (XGB): 0.70\n",
      "F1-score (SVM): 0.75\n"
     ]
    }
   ],
   "source": [
    "print(f\"F1-score (LR): {f1_lr:.2f}\")\n",
    "print(f\"F1-scorey (RF): {f1_rf:.2f}\")\n",
    "print(f\"F1-score (XGB): {f1_xgb:.2f}\")\n",
    "print(f\"F1-score (SVM): {f1_svm:.2f}\")"
   ]
  },
  {
   "cell_type": "markdown",
   "id": "17882216-3359-4e02-8ece-917f7f5e66f3",
   "metadata": {},
   "source": [
    "#### Submission trough LR and SVM shows the same score result. Let's try one more way of modeling with RNN LSTM."
   ]
  },
  {
   "cell_type": "markdown",
   "id": "93ae028d-011a-4c88-9ce3-01e175e9cd11",
   "metadata": {},
   "source": [
    "## Model 5. RNN LSTM"
   ]
  },
  {
   "cell_type": "code",
   "execution_count": 137,
   "id": "ead37614-9be8-4b5d-9327-cceff3363fdf",
   "metadata": {
    "scrolled": true
   },
   "outputs": [
    {
     "data": {
      "image/png": "[encoded data removed]",
      "text/plain": [
       "<Figure size 500x300 with 1 Axes>"
      ]
     },
     "metadata": {},
     "output_type": "display_data"
    }
   ],
   "source": [
    "text_lengths = train['clean_text'].apply(lambda x: len(x.split()))\n",
    "\n",
    "plt.figure(figsize=(5, 3))\n",
    "plt.hist(text_lengths, bins=20, edgecolor='black')\n",
    "plt.title(\"Distribution of length texts\")\n",
    "plt.xlabel(\"Number of words\")\n",
    "plt.ylabel(\"Count\")\n",
    "plt.show()"
   ]
  },
  {
   "cell_type": "code",
   "execution_count": 154,
   "id": "021a5549-953f-4ae7-b085-756347d02820",
   "metadata": {},
   "outputs": [
    {
     "name": "stdout",
     "output_type": "stream",
     "text": [
      "Percentage of texts covered by max length: 97.25%\n"
     ]
    }
   ],
   "source": [
    "max_length = 15\n",
    "coverage = (text_lengths <= max_length).mean() * 100\n",
    "print(f\"Percentage of texts covered by max length: {coverage:.2f}%\")"
   ]
  },
  {
   "cell_type": "markdown",
   "id": "5bb65e41-ca67-4797-8b3e-d5d401b75eec",
   "metadata": {},
   "source": [
    "#### We can use max length = 15 for padding"
   ]
  },
  {
   "cell_type": "code",
   "execution_count": 156,
   "id": "715da6b5-2db8-46fe-b841-45441b3c280a",
   "metadata": {},
   "outputs": [
    {
     "name": "stdout",
     "output_type": "stream",
     "text": [
      "Vocabulary Size: 15471\n",
      "Shape of train_padded: (7613, 15)\n",
      "Shape of test_padded: (3263, 15)\n"
     ]
    }
   ],
   "source": [
    "from tensorflow.keras.preprocessing.text import Tokenizer\n",
    "from tensorflow.keras.preprocessing.sequence import pad_sequences\n",
    "\n",
    "tokenizer = Tokenizer(oov_token='<OOV>')\n",
    "tokenizer.fit_on_texts(train['clean_text'])\n",
    "\n",
    "vocab_size = len(tokenizer.word_index) + 1\n",
    "print(f\"Vocabulary Size: {vocab_size}\")\n",
    "\n",
    "train_sequences = tokenizer.texts_to_sequences(train['clean_text'])\n",
    "test_sequences = tokenizer.texts_to_sequences(test['clean_text'])\n",
    "\n",
    "train_padded = pad_sequences(train_sequences, maxlen=max_length, padding='post')\n",
    "test_padded = pad_sequences(test_sequences, maxlen=max_length, padding='post')\n",
    "\n",
    "print(f\"Shape of train_padded: {train_padded.shape}\")\n",
    "print(f\"Shape of test_padded: {test_padded.shape}\")"
   ]
  },
  {
   "cell_type": "code",
   "execution_count": 158,
   "id": "fa31f788-2ca6-4a01-95e0-f0c53319d479",
   "metadata": {},
   "outputs": [],
   "source": [
    "train_labels = np.array(train['target'])"
   ]
  },
  {
   "cell_type": "code",
   "execution_count": 166,
   "id": "b9614e90-2dfd-4901-9240-53b22640fc8e",
   "metadata": {},
   "outputs": [
    {
     "data": {
      "text/html": [
       "<pre style=\"white-space:pre;overflow-x:auto;line-height:normal;font-family:Menlo,'DejaVu Sans Mono',consolas,'Courier New',monospace\"><span style=\"font-weight: bold\">Model: \"sequential_3\"</span>\n",
       "</pre>\n"
      ],
      "text/plain": [
       "\u001b[1mModel: \"sequential_3\"\u001b[0m\n"
      ]
     },
     "metadata": {},
     "output_type": "display_data"
    },
    {
     "data": {
      "text/html": [
       "<pre style=\"white-space:pre;overflow-x:auto;line-height:normal;font-family:Menlo,'DejaVu Sans Mono',consolas,'Courier New',monospace\">┏━━━━━━━━━━━━━━━━━━━━━━━━━━━━━━━━━┳━━━━━━━━━━━━━━━━━━━━━━━━┳━━━━━━━━━━━━━━━┓\n",
       "┃<span style=\"font-weight: bold\"> Layer (type)                    </span>┃<span style=\"font-weight: bold\"> Output Shape           </span>┃<span style=\"font-weight: bold\">       Param # </span>┃\n",
       "┡━━━━━━━━━━━━━━━━━━━━━━━━━━━━━━━━━╇━━━━━━━━━━━━━━━━━━━━━━━━╇━━━━━━━━━━━━━━━┩\n",
       "│ embedding_3 (<span style=\"color: #0087ff; text-decoration-color: #0087ff\">Embedding</span>)         │ (<span style=\"color: #00d7ff; text-decoration-color: #00d7ff\">None</span>, <span style=\"color: #00af00; text-decoration-color: #00af00\">15</span>, <span style=\"color: #00af00; text-decoration-color: #00af00\">64</span>)         │       <span style=\"color: #00af00; text-decoration-color: #00af00\">990,144</span> │\n",
       "├─────────────────────────────────┼────────────────────────┼───────────────┤\n",
       "│ lstm_3 (<span style=\"color: #0087ff; text-decoration-color: #0087ff\">LSTM</span>)                   │ (<span style=\"color: #00d7ff; text-decoration-color: #00d7ff\">None</span>, <span style=\"color: #00af00; text-decoration-color: #00af00\">64</span>)             │        <span style=\"color: #00af00; text-decoration-color: #00af00\">33,024</span> │\n",
       "├─────────────────────────────────┼────────────────────────┼───────────────┤\n",
       "│ dense_6 (<span style=\"color: #0087ff; text-decoration-color: #0087ff\">Dense</span>)                 │ (<span style=\"color: #00d7ff; text-decoration-color: #00d7ff\">None</span>, <span style=\"color: #00af00; text-decoration-color: #00af00\">32</span>)             │         <span style=\"color: #00af00; text-decoration-color: #00af00\">2,080</span> │\n",
       "├─────────────────────────────────┼────────────────────────┼───────────────┤\n",
       "│ dense_7 (<span style=\"color: #0087ff; text-decoration-color: #0087ff\">Dense</span>)                 │ (<span style=\"color: #00d7ff; text-decoration-color: #00d7ff\">None</span>, <span style=\"color: #00af00; text-decoration-color: #00af00\">1</span>)              │            <span style=\"color: #00af00; text-decoration-color: #00af00\">33</span> │\n",
       "└─────────────────────────────────┴────────────────────────┴───────────────┘\n",
       "</pre>\n"
      ],
      "text/plain": [
       "┏━━━━━━━━━━━━━━━━━━━━━━━━━━━━━━━━━┳━━━━━━━━━━━━━━━━━━━━━━━━┳━━━━━━━━━━━━━━━┓\n",
       "┃\u001b[1m \u001b[0m\u001b[1mLayer (type)                   \u001b[0m\u001b[1m \u001b[0m┃\u001b[1m \u001b[0m\u001b[1mOutput Shape          \u001b[0m\u001b[1m \u001b[0m┃\u001b[1m \u001b[0m\u001b[1m      Param #\u001b[0m\u001b[1m \u001b[0m┃\n",
       "┡━━━━━━━━━━━━━━━━━━━━━━━━━━━━━━━━━╇━━━━━━━━━━━━━━━━━━━━━━━━╇━━━━━━━━━━━━━━━┩\n",
       "│ embedding_3 (\u001b[38;5;33mEmbedding\u001b[0m)         │ (\u001b[38;5;45mNone\u001b[0m, \u001b[38;5;34m15\u001b[0m, \u001b[38;5;34m64\u001b[0m)         │       \u001b[38;5;34m990,144\u001b[0m │\n",
       "├─────────────────────────────────┼────────────────────────┼───────────────┤\n",
       "│ lstm_3 (\u001b[38;5;33mLSTM\u001b[0m)                   │ (\u001b[38;5;45mNone\u001b[0m, \u001b[38;5;34m64\u001b[0m)             │        \u001b[38;5;34m33,024\u001b[0m │\n",
       "├─────────────────────────────────┼────────────────────────┼───────────────┤\n",
       "│ dense_6 (\u001b[38;5;33mDense\u001b[0m)                 │ (\u001b[38;5;45mNone\u001b[0m, \u001b[38;5;34m32\u001b[0m)             │         \u001b[38;5;34m2,080\u001b[0m │\n",
       "├─────────────────────────────────┼────────────────────────┼───────────────┤\n",
       "│ dense_7 (\u001b[38;5;33mDense\u001b[0m)                 │ (\u001b[38;5;45mNone\u001b[0m, \u001b[38;5;34m1\u001b[0m)              │            \u001b[38;5;34m33\u001b[0m │\n",
       "└─────────────────────────────────┴────────────────────────┴───────────────┘\n"
      ]
     },
     "metadata": {},
     "output_type": "display_data"
    },
    {
     "data": {
      "text/html": [
       "<pre style=\"white-space:pre;overflow-x:auto;line-height:normal;font-family:Menlo,'DejaVu Sans Mono',consolas,'Courier New',monospace\"><span style=\"font-weight: bold\"> Total params: </span><span style=\"color: #00af00; text-decoration-color: #00af00\">1,025,281</span> (3.91 MB)\n",
       "</pre>\n"
      ],
      "text/plain": [
       "\u001b[1m Total params: \u001b[0m\u001b[38;5;34m1,025,281\u001b[0m (3.91 MB)\n"
      ]
     },
     "metadata": {},
     "output_type": "display_data"
    },
    {
     "data": {
      "text/html": [
       "<pre style=\"white-space:pre;overflow-x:auto;line-height:normal;font-family:Menlo,'DejaVu Sans Mono',consolas,'Courier New',monospace\"><span style=\"font-weight: bold\"> Trainable params: </span><span style=\"color: #00af00; text-decoration-color: #00af00\">1,025,281</span> (3.91 MB)\n",
       "</pre>\n"
      ],
      "text/plain": [
       "\u001b[1m Trainable params: \u001b[0m\u001b[38;5;34m1,025,281\u001b[0m (3.91 MB)\n"
      ]
     },
     "metadata": {},
     "output_type": "display_data"
    },
    {
     "data": {
      "text/html": [
       "<pre style=\"white-space:pre;overflow-x:auto;line-height:normal;font-family:Menlo,'DejaVu Sans Mono',consolas,'Courier New',monospace\"><span style=\"font-weight: bold\"> Non-trainable params: </span><span style=\"color: #00af00; text-decoration-color: #00af00\">0</span> (0.00 B)\n",
       "</pre>\n"
      ],
      "text/plain": [
       "\u001b[1m Non-trainable params: \u001b[0m\u001b[38;5;34m0\u001b[0m (0.00 B)\n"
      ]
     },
     "metadata": {},
     "output_type": "display_data"
    }
   ],
   "source": [
    "from tensorflow.keras.models import Sequential\n",
    "from tensorflow.keras.layers import Embedding, LSTM, Dense\n",
    "\n",
    "model = Sequential([\n",
    "    Embedding(input_dim=vocab_size, output_dim=64),\n",
    "    LSTM(64, return_sequences=False),\n",
    "    Dense(32, activation='relu'),\n",
    "    Dense(1, activation='sigmoid')\n",
    "])\n",
    "\n",
    "\n",
    "model.compile(optimizer='adam', loss='binary_crossentropy', metrics=['accuracy'])\n",
    "\n",
    "model.build(input_shape=(None, max_length))\n",
    "model.summary()"
   ]
  },
  {
   "cell_type": "code",
   "execution_count": 172,
   "id": "97c4be4f-939f-4a52-a694-984170da0e43",
   "metadata": {},
   "outputs": [
    {
     "name": "stdout",
     "output_type": "stream",
     "text": [
      "Epoch 1/5\n",
      "\u001b[1m179/179\u001b[0m \u001b[32m━━━━━━━━━━━━━━━━━━━━\u001b[0m\u001b[37m\u001b[0m \u001b[1m1s\u001b[0m 7ms/step - accuracy: 0.9685 - loss: 0.0758 - val_accuracy: 0.7143 - val_loss: 1.1725\n",
      "Epoch 2/5\n",
      "\u001b[1m179/179\u001b[0m \u001b[32m━━━━━━━━━━━━━━━━━━━━\u001b[0m\u001b[37m\u001b[0m \u001b[1m1s\u001b[0m 6ms/step - accuracy: 0.9757 - loss: 0.0546 - val_accuracy: 0.7180 - val_loss: 1.4482\n",
      "Epoch 3/5\n",
      "\u001b[1m179/179\u001b[0m \u001b[32m━━━━━━━━━━━━━━━━━━━━\u001b[0m\u001b[37m\u001b[0m \u001b[1m1s\u001b[0m 6ms/step - accuracy: 0.9777 - loss: 0.0512 - val_accuracy: 0.7111 - val_loss: 1.2115\n",
      "Epoch 4/5\n",
      "\u001b[1m179/179\u001b[0m \u001b[32m━━━━━━━━━━━━━━━━━━━━\u001b[0m\u001b[37m\u001b[0m \u001b[1m1s\u001b[0m 6ms/step - accuracy: 0.9807 - loss: 0.0461 - val_accuracy: 0.6980 - val_loss: 1.3445\n",
      "Epoch 5/5\n",
      "\u001b[1m179/179\u001b[0m \u001b[32m━━━━━━━━━━━━━━━━━━━━\u001b[0m\u001b[37m\u001b[0m \u001b[1m1s\u001b[0m 6ms/step - accuracy: 0.9798 - loss: 0.0444 - val_accuracy: 0.7169 - val_loss: 1.2375\n"
     ]
    }
   ],
   "source": [
    "history = model.fit(\n",
    "    train_padded, train_labels, \n",
    "    epochs=5, \n",
    "    batch_size=32, \n",
    "    validation_split=0.25)"
   ]
  },
  {
   "cell_type": "code",
   "execution_count": 174,
   "id": "943f13c9-4042-4ec3-8e4a-63de96924646",
   "metadata": {},
   "outputs": [],
   "source": [
    "from tensorflow.keras.callbacks import EarlyStopping, ReduceLROnPlateau, ModelCheckpoint \n",
    "\n",
    "early_stopping = EarlyStopping(\n",
    "    monitor='val_loss',      # Track validation loss\n",
    "    patience=4,              # Stop after 4 epochs without improvement\n",
    "    restore_best_weights=True  # Restore weights from the best epoch\n",
    ")\n",
    "\n",
    "reduce_lr = ReduceLROnPlateau(\n",
    "    monitor='val_loss',      # Track validation loss\n",
    "    factor=0.5,              # Reduce learning rate by half\n",
    "    patience=3,              # After 3 epochs without improvement\n",
    "    min_lr=1e-6              # Minimum learning rate limit\n",
    ")\n",
    "\n",
    "model_checkpoint = ModelCheckpoint(\n",
    "    filepath='best_model.keras', # Save path\n",
    "    monitor='val_loss',       # Track validation loss\n",
    "    save_best_only=True       # Save only the best model\n",
    ")"
   ]
  },
  {
   "cell_type": "code",
   "execution_count": 182,
   "id": "ae293936-c2a0-45e2-93fd-982e816bc689",
   "metadata": {},
   "outputs": [],
   "source": [
    "import tensorflow\n",
    "from tensorflow.keras.optimizers import Adam\n",
    "\n",
    "model.compile(\n",
    "    optimizer=tensorflow.keras.optimizers.Adam(learning_rate=0.001),\n",
    "    loss='binary_crossentropy',\n",
    "    metrics=['accuracy']\n",
    ")"
   ]
  },
  {
   "cell_type": "code",
   "execution_count": 184,
   "id": "9ecb984c-fd8b-42e8-8ccb-ce69a6d28b4d",
   "metadata": {},
   "outputs": [
    {
     "name": "stdout",
     "output_type": "stream",
     "text": [
      "Epoch 1/20\n",
      "\u001b[1m191/191\u001b[0m \u001b[32m━━━━━━━━━━━━━━━━━━━━\u001b[0m\u001b[37m\u001b[0m \u001b[1m3s\u001b[0m 7ms/step - accuracy: 0.9628 - loss: 0.1151 - val_accuracy: 0.7354 - val_loss: 0.7269 - learning_rate: 0.0010\n",
      "Epoch 2/20\n",
      "\u001b[1m191/191\u001b[0m \u001b[32m━━━━━━━━━━━━━━━━━━━━\u001b[0m\u001b[37m\u001b[0m \u001b[1m1s\u001b[0m 6ms/step - accuracy: 0.9753 - loss: 0.0619 - val_accuracy: 0.7282 - val_loss: 1.1470 - learning_rate: 0.0010\n",
      "Epoch 3/20\n",
      "\u001b[1m191/191\u001b[0m \u001b[32m━━━━━━━━━━━━━━━━━━━━\u001b[0m\u001b[37m\u001b[0m \u001b[1m1s\u001b[0m 6ms/step - accuracy: 0.9828 - loss: 0.0430 - val_accuracy: 0.7118 - val_loss: 1.1532 - learning_rate: 0.0010\n",
      "Epoch 4/20\n",
      "\u001b[1m191/191\u001b[0m \u001b[32m━━━━━━━━━━━━━━━━━━━━\u001b[0m\u001b[37m\u001b[0m \u001b[1m1s\u001b[0m 6ms/step - accuracy: 0.9779 - loss: 0.0476 - val_accuracy: 0.7157 - val_loss: 1.3207 - learning_rate: 0.0010\n",
      "Epoch 5/20\n",
      "\u001b[1m191/191\u001b[0m \u001b[32m━━━━━━━━━━━━━━━━━━━━\u001b[0m\u001b[37m\u001b[0m \u001b[1m1s\u001b[0m 6ms/step - accuracy: 0.9809 - loss: 0.0379 - val_accuracy: 0.7216 - val_loss: 1.2274 - learning_rate: 5.0000e-04\n"
     ]
    }
   ],
   "source": [
    "history = model.fit(\n",
    "    train_padded,train_labels,\n",
    "    epochs=20,\n",
    "    batch_size=32,\n",
    "    validation_split=0.2,\n",
    "    callbacks=[early_stopping, reduce_lr, model_checkpoint]\n",
    ")"
   ]
  },
  {
   "cell_type": "code",
   "execution_count": 188,
   "id": "4e1c138c-a083-4600-b8c4-1e25caf46169",
   "metadata": {},
   "outputs": [
    {
     "name": "stdout",
     "output_type": "stream",
     "text": [
      "\u001b[1m102/102\u001b[0m \u001b[32m━━━━━━━━━━━━━━━━━━━━\u001b[0m\u001b[37m\u001b[0m \u001b[1m0s\u001b[0m 2ms/step\n",
      "Predictions: [0 0 1 ... 1 1 1]\n"
     ]
    }
   ],
   "source": [
    "from tensorflow.keras.models import load_model\n",
    "\n",
    "best_model = load_model('best_model.keras')\n",
    "\n",
    "test_pred = best_model.predict(test_padded)\n",
    "\n",
    "test_pred_labels = (test_pred > 0.5).astype(int).flatten()\n",
    "\n",
    "print(f\"Predictions: {test_pred_labels}\")"
   ]
  },
  {
   "cell_type": "code",
   "execution_count": 190,
   "id": "af26fea6-012e-459b-8903-435d663bc9c0",
   "metadata": {},
   "outputs": [
    {
     "name": "stdout",
     "output_type": "stream",
     "text": [
      "   id  target\n",
      "0   0       0\n",
      "1   2       0\n",
      "2   3       1\n",
      "3   9       1\n",
      "4  11       1\n"
     ]
    }
   ],
   "source": [
    "submission = pd.DataFrame({\n",
    "    'id': test['id'],         # Replace 'id' with your ID column name if different\n",
    "    'target': test_pred_labels  # Replace 'target' if a different name is required\n",
    "})\n",
    "\n",
    "print(submission.head())"
   ]
  },
  {
   "cell_type": "code",
   "execution_count": 192,
   "id": "090679e6-7b91-4efe-9883-6b7a83791bfa",
   "metadata": {},
   "outputs": [],
   "source": [
    "submission.to_csv('submission_LSTM.csv', index=False)"
   ]
  },
  {
   "cell_type": "markdown",
   "id": "1c562e0f-20d5-44a9-b8cb-1cd1baae5b4e",
   "metadata": {},
   "source": [
    "####"
   ]
  }
 ],
 "metadata": {
  "kernelspec": {
   "display_name": "Python 3 (ipykernel)",
   "language": "python",
   "name": "python3"
  },
  "language_info": {
   "codemirror_mode": {
    "name": "ipython",
    "version": 3
   },
   "file_extension": ".py",
   "mimetype": "text/x-python",
   "name": "python",
   "nbconvert_exporter": "python",
   "pygments_lexer": "ipython3",
   "version": "3.12.7"
  }
 },
 "nbformat": 4,
 "nbformat_minor": 5
}
